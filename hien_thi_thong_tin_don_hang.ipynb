{
 "cells": [
  {
   "cell_type": "code",
   "execution_count": 26,
   "id": "d67cceae",
   "metadata": {
    "scrolled": true
   },
   "outputs": [
    {
     "name": "stdout",
     "output_type": "stream",
     "text": [
      "Nhap so tien phai chi tai cua hang:  \n",
      "100 $\n",
      "duoc giam gia 25$ & so tien can thanh toan: 75.0$\n"
     ]
    }
   ],
   "source": [
    "print(\"Nhap so tien phai chi tai cua hang:  \")\n",
    "money,tiente = input().split()\n",
    "money = float(money)\n",
    "if money >= 150: \n",
    "    payment = money - 50\n",
    "    print(f\"duoc giam gia 50$ & so tien can thanh toan: {payment}$\")\n",
    "elif money >= 100:\n",
    "        payment = money - 25\n",
    "        print(f\"duoc giam gia 25$ & so tien can thanh toan: {payment}$\")\n",
    "elif money >=75:\n",
    "        payment = money - 15\n",
    "        print(f\"duoc giam gia 15$ & so tien can thanh toan: {payment}$\")\n",
    "else:\n",
    "    print(\"khong duoc giam gia\")\n",
    "        \n"
   ]
  },
  {
   "cell_type": "code",
   "execution_count": 9,
   "id": "de086048",
   "metadata": {},
   "outputs": [
    {
     "ename": "SyntaxError",
     "evalue": "invalid syntax (Temp/ipykernel_14996/525519296.py, line 1)",
     "output_type": "error",
     "traceback": [
      "\u001b[1;36m  File \u001b[1;32m\"C:\\Users\\Dell\\AppData\\Local\\Temp/ipykernel_14996/525519296.py\"\u001b[1;36m, line \u001b[1;32m1\u001b[0m\n\u001b[1;33m    |\u001b[0m\n\u001b[1;37m    ^\u001b[0m\n\u001b[1;31mSyntaxError\u001b[0m\u001b[1;31m:\u001b[0m invalid syntax\n"
     ]
    }
   ],
   "source": [
    "|"
   ]
  },
  {
   "cell_type": "code",
   "execution_count": null,
   "id": "d33bc5b5",
   "metadata": {},
   "outputs": [],
   "source": []
  }
 ],
 "metadata": {
  "kernelspec": {
   "display_name": "Python 3 (ipykernel)",
   "language": "python",
   "name": "python3"
  },
  "language_info": {
   "codemirror_mode": {
    "name": "ipython",
    "version": 3
   },
   "file_extension": ".py",
   "mimetype": "text/x-python",
   "name": "python",
   "nbconvert_exporter": "python",
   "pygments_lexer": "ipython3",
   "version": "3.9.6"
  }
 },
 "nbformat": 4,
 "nbformat_minor": 5
}
